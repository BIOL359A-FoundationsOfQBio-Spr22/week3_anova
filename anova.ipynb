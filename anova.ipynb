{
 "cells": [
  {
   "cell_type": "markdown",
   "metadata": {},
   "source": [
    "# Biol 359A  | Data as matrices, ANOVA\n",
    "### Spring 2022, Week 3\n",
    "<hr>\n",
    "\n",
    "Objectives:\n",
    "-  Understand the structure of data\n",
    "-  Gain intuition about ANOVA\n",
    "-  Read some more basic python syntax\n",
    "\n"
   ]
  },
  {
   "cell_type": "code",
   "execution_count": null,
   "metadata": {},
   "outputs": [],
   "source": [
    "!git clone https://github.com/BIOL359A-FoundationsOfQBio-Spr22/week3_anova\n",
    "!mkdir ./data\n",
    "!cp week3_anova/data/* ./data\n",
    "!cp week3_anova/clean_data.py ./"
   ]
  },
  {
   "cell_type": "code",
   "execution_count": null,
   "metadata": {},
   "outputs": [],
   "source": [
    "import pandas as pd\n",
    "import seaborn as sns\n",
    "import ipywidgets as widgets\n",
    "import random\n",
    "import numpy as np\n",
    "import matplotlib.pyplot as plt\n",
    "from scipy.stats import ttest_ind as ttest\n",
    "import statsmodels.api as sm\n",
    "from statsmodels.formula.api import ols\n",
    "\n",
    "TITLE_FONT = 20\n",
    "LABEL_FONT = 16\n",
    "TICK_FONT = 16\n",
    "FIG_SIZE = (12,12)\n",
    "\n",
    "sns.set_context(\"notebook\")\n",
    "sns.set_style(\"whitegrid\")\n",
    "sns.set(font_scale=1) #Change from 1 to 1.5 or 2 if you have a hard time reading text"
   ]
  },
  {
   "cell_type": "markdown",
   "metadata": {},
   "source": [
    "# Question 2: ANOVA\n",
    "\n",
    "Let's start with a small example dataset to focus on intuition of the ANOVA method, and correcting for the number of tests. \n",
    "\n",
    "https://reneshbedre.github.io/assets/posts/anova/twowayanova.txt\n",
    "\n",
    "First, we are going to do 3 ANOVAs for each year.\n"
   ]
  },
  {
   "cell_type": "code",
   "execution_count": null,
   "metadata": {},
   "outputs": [],
   "source": [
    "basic_df = pd.read_csv(\"https://reneshbedre.github.io/assets/posts/anova/twowayanova.txt\", sep=\"\\t\")\n",
    "basic_df.columns = [\"Genotype\", \"Year1\", \"Year2\", \"Year3\"]"
   ]
  },
  {
   "cell_type": "code",
   "execution_count": null,
   "metadata": {},
   "outputs": [],
   "source": [
    "def perform_oneway_anova(df, independent = \"Genotype\", dependent = \"Year1\"):\n",
    "    model = ols(f'{dependent} ~ C({independent})', data=df).fit()\n",
    "    aov_table = sm.stats.anova_lm(model, typ=2)\n",
    "    sns.boxplot(data=df, y=dependent, x=independent)\n",
    "    return aov_table\n",
    "    \n",
    "@widgets.interact(dependent=[\"Year1\", \"Year2\", \"Year3\"])\n",
    "def anova_by_year(dependent):\n",
    "    return perform_oneway_anova(basic_df, independent=\"Genotype\", dependent = dependent)\n",
    "    "
   ]
  },
  {
   "cell_type": "code",
   "execution_count": null,
   "metadata": {},
   "outputs": [],
   "source": [
    "def perform_twoway_anova(df, interaction=False, ind = [\"Genotype\", \"years\"], dep = \"value\"):\n",
    "    d_melt = pd.melt(df, id_vars=['Genotype'], value_vars=['Year1', 'Year2', 'Year3'])\n",
    "    d_melt.columns = ['Genotype', 'years', 'value']\n",
    "    \n",
    "    if interaction: \n",
    "        model = ols(f'{dep} ~ C({ind[0]}) + C({ind[1]}) + C({ind[0]}):C({ind[1]})', data=d_melt).fit()\n",
    "    else: \n",
    "        model = ols(f'{dep} ~ C({ind[0]}) + C({ind[1]})', data=d_melt).fit()\n",
    "    aov_table = sm.stats.anova_lm(model, typ=2)\n",
    "    return aov_table\n",
    "\n",
    "@widgets.interact(interaction=[False,True])\n",
    "def ineractions_twoway_anova(interaction):\n",
    "    return perform_twoway_anova(basic_df, interaction)"
   ]
  },
  {
   "cell_type": "markdown",
   "metadata": {},
   "source": [
    "# Question 3: How do we represent data\n",
    "\n",
    "Why does the __structure__ of data matter? \n",
    "There is a lot of math that is important to calculating statistics. \n",
    "As we need more complex "
   ]
  },
  {
   "cell_type": "code",
   "execution_count": null,
   "metadata": {},
   "outputs": [],
   "source": [
    "lab_data = pd.read_csv(\"hcvdat0.csv\", index_col=0)"
   ]
  },
  {
   "cell_type": "code",
   "execution_count": null,
   "metadata": {},
   "outputs": [],
   "source": []
  },
  {
   "cell_type": "markdown",
   "metadata": {},
   "source": [
    "\n",
    "The 'Kingdom' is a 3-letter code corresponding to `xxx' in the CUTG database name: 'arc'(archaea), 'bct'(bacteria), 'phg'(bacteriophage), 'plm' (plasmid), 'pln' (plant), 'inv' (invertebrate), 'vrt' (vertebrate), 'mam' (mammal), 'rod' (rodent), 'pri' (primate), and 'vrl'(virus) sequence entries. Note that the CUTG database does not contain 'arc' and 'plm' (these have been manually curated ourselves).\n",
    "\n",
    "The 'DNAtype' is denoted as an integer for the genomic composition in the species: 0-genomic, 1-mitochondrial, 2-chloroplast, 3-cyanelle, 4-plastid, 5-nucleomorph, 6-secondary_endosymbiont, 7-chromoplast, 8-leucoplast, 9-NA, 10-proplastid, 11-apicoplast, and 12-kinetoplast.\n",
    "\n",
    "The species identifier ('SpeciesID') is an integer, which uniquely indicates the entries of an organism. It is an accession identifier for each different species in the original CUTG database, followed by the first item listed in each genome.\n",
    "\n",
    "The number of codons (`Ncodons') is the algebraic sum of the numbers listed for the different codons in an entry of CUTG. Codon frequencies are normalized to the total codon count, hence the number of occurrences divided by 'Ncodons' is the codon frequencies listed in the data file.\n",
    "\n",
    "The species' name ('SpeciesName') is represented in strings purged of `comma' (which are now replaced by `space'). This is a descriptive label of the name of the species for data interpretations.\n",
    "\n",
    "Lastly, the codon frequencies ('codon') including 'UUU', 'UUA', 'UUG', 'CUU', etc., are recorded as floats (with decimals in 5 digits).\n"
   ]
  },
  {
   "cell_type": "code",
   "execution_count": null,
   "metadata": {
    "scrolled": false
   },
   "outputs": [],
   "source": [
    "sns.histplot(data=lab_data, x=\"ALB\", hue=\"Category\", stat=\"probability\")\n",
    "plt.show()\n",
    "sns.histplot(data=lab_data, x=\"ALP\", hue=\"Category\", stat=\"probability\")\n",
    "plt.show()\n",
    "sns.histplot(data=lab_data, x=\"ALT\", hue=\"Category\", stat=\"probability\")\n",
    "plt.show()\n",
    "sns.histplot(data=lab_data, x=\"AST\", hue=\"Category\", stat=\"probability\")\n",
    "plt.show()\n",
    "sns.histplot(data=lab_data, x=\"BIL\", hue=\"Category\", stat=\"probability\")\n",
    "plt.show()\n",
    "sns.histplot(data=lab_data, x=\"CHE\", hue=\"Category\", stat=\"probability\")\n",
    "plt.show()\n",
    "sns.histplot(data=lab_data, x=\"CHOL\", hue=\"Category\", stat=\"probability\")\n",
    "plt.show()\n",
    "sns.histplot(data=lab_data, x=\"CREA\", hue=\"Category\", stat=\"probability\")\n",
    "plt.show()\n",
    "sns.histplot(data=lab_data, x=\"GGT\", hue=\"Category\", stat=\"probability\")\n",
    "plt.show()\n",
    "sns.histplot(data=lab_data, x=\"PROT\", hue=\"Category\", stat=\"probability\")\n",
    "plt.show()\n"
   ]
  },
  {
   "cell_type": "markdown",
   "metadata": {},
   "source": [
    "# Question 4: ANOVA assumptions"
   ]
  },
  {
   "cell_type": "markdown",
   "metadata": {},
   "source": [
    "# Question 5: Follow-up testing"
   ]
  },
  {
   "cell_type": "markdown",
   "metadata": {},
   "source": [
    "### Optional: Looking forward to linear models"
   ]
  }
 ],
 "metadata": {
  "kernelspec": {
   "display_name": "Python 3",
   "language": "python",
   "name": "python3"
  },
  "language_info": {
   "codemirror_mode": {
    "name": "ipython",
    "version": 3
   },
   "file_extension": ".py",
   "mimetype": "text/x-python",
   "name": "python",
   "nbconvert_exporter": "python",
   "pygments_lexer": "ipython3",
   "version": "3.9.0"
  }
 },
 "nbformat": 4,
 "nbformat_minor": 4
}
